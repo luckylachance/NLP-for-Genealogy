{
 "cells": [
  {
   "cell_type": "code",
   "execution_count": 2,
   "metadata": {},
   "outputs": [
    {
     "name": "stdout",
     "output_type": "stream",
     "text": [
      "Requirement already satisfied: PyPDF2 in c:\\users\\lucky\\anaconda3\\lib\\site-packages (1.26.0)\n",
      "Note: you may need to restart the kernel to use updated packages.\n"
     ]
    },
    {
     "name": "stderr",
     "output_type": "stream",
     "text": [
      "ERROR: Error checking for conflicts.\n",
      "Traceback (most recent call last):\n",
      "  File \"C:\\Users\\Lucky\\Anaconda3\\lib\\site-packages\\pip\\_vendor\\pkg_resources\\__init__.py\", line 3021, in _dep_map\n",
      "    return self.__dep_map\n",
      "  File \"C:\\Users\\Lucky\\Anaconda3\\lib\\site-packages\\pip\\_vendor\\pkg_resources\\__init__.py\", line 2815, in __getattr__\n",
      "    raise AttributeError(attr)\n",
      "AttributeError: _DistInfoDistribution__dep_map\n",
      "\n",
      "During handling of the above exception, another exception occurred:\n",
      "\n",
      "Traceback (most recent call last):\n",
      "  File \"C:\\Users\\Lucky\\Anaconda3\\lib\\site-packages\\pip\\_vendor\\pkg_resources\\__init__.py\", line 3012, in _parsed_pkg_info\n",
      "    return self._pkg_info\n",
      "  File \"C:\\Users\\Lucky\\Anaconda3\\lib\\site-packages\\pip\\_vendor\\pkg_resources\\__init__.py\", line 2815, in __getattr__\n",
      "    raise AttributeError(attr)\n",
      "AttributeError: _pkg_info\n",
      "\n",
      "During handling of the above exception, another exception occurred:\n",
      "\n",
      "Traceback (most recent call last):\n",
      "  File \"C:\\Users\\Lucky\\Anaconda3\\lib\\site-packages\\pip\\_internal\\commands\\install.py\", line 517, in _warn_about_conflicts\n",
      "    package_set, _dep_info = check_install_conflicts(to_install)\n",
      "  File \"C:\\Users\\Lucky\\Anaconda3\\lib\\site-packages\\pip\\_internal\\operations\\check.py\", line 114, in check_install_conflicts\n",
      "    package_set, _ = create_package_set_from_installed()\n",
      "  File \"C:\\Users\\Lucky\\Anaconda3\\lib\\site-packages\\pip\\_internal\\operations\\check.py\", line 53, in create_package_set_from_installed\n",
      "    package_set[name] = PackageDetails(dist.version, dist.requires())\n",
      "  File \"C:\\Users\\Lucky\\Anaconda3\\lib\\site-packages\\pip\\_vendor\\pkg_resources\\__init__.py\", line 2736, in requires\n",
      "    dm = self._dep_map\n",
      "  File \"C:\\Users\\Lucky\\Anaconda3\\lib\\site-packages\\pip\\_vendor\\pkg_resources\\__init__.py\", line 3023, in _dep_map\n",
      "    self.__dep_map = self._compute_dependencies()\n",
      "  File \"C:\\Users\\Lucky\\Anaconda3\\lib\\site-packages\\pip\\_vendor\\pkg_resources\\__init__.py\", line 3032, in _compute_dependencies\n",
      "    for req in self._parsed_pkg_info.get_all('Requires-Dist') or []:\n",
      "  File \"C:\\Users\\Lucky\\Anaconda3\\lib\\site-packages\\pip\\_vendor\\pkg_resources\\__init__.py\", line 3014, in _parsed_pkg_info\n",
      "    metadata = self.get_metadata(self.PKG_INFO)\n",
      "  File \"C:\\Users\\Lucky\\Anaconda3\\lib\\site-packages\\pip\\_vendor\\pkg_resources\\__init__.py\", line 1420, in get_metadata\n",
      "    value = self._get(path)\n",
      "  File \"C:\\Users\\Lucky\\Anaconda3\\lib\\site-packages\\pip\\_vendor\\pkg_resources\\__init__.py\", line 1616, in _get\n",
      "    with open(path, 'rb') as stream:\n",
      "FileNotFoundError: [Errno 2] No such file or directory: 'c:\\\\users\\\\lucky\\\\anaconda3\\\\lib\\\\site-packages\\\\path.py-12.0.1.dist-info\\\\METADATA'\n"
     ]
    }
   ],
   "source": [
    "##  pip install PyPDF2"
   ]
  },
  {
   "cell_type": "code",
   "execution_count": 2,
   "metadata": {},
   "outputs": [],
   "source": [
    "import PyPDF2\n",
    "mypdf = open('HistoryofMonsonMaine.pdf', mode='rb')  ## rb means Read Binary"
   ]
  },
  {
   "cell_type": "code",
   "execution_count": 3,
   "metadata": {},
   "outputs": [],
   "source": [
    "pdf_document = PyPDF2.PdfFileReader(mypdf)"
   ]
  },
  {
   "cell_type": "code",
   "execution_count": 4,
   "metadata": {},
   "outputs": [
    {
     "data": {
      "text/plain": [
       "219"
      ]
     },
     "execution_count": 4,
     "metadata": {},
     "output_type": "execute_result"
    }
   ],
   "source": [
    "pdf_document.numPages"
   ]
  },
  {
   "cell_type": "code",
   "execution_count": 8,
   "metadata": {},
   "outputs": [
    {
     "name": "stdout",
     "output_type": "stream",
     "text": [
      "\n",
      "V6˙*\"#ˇ!˙˜#˘ˇˇ\"$#\n",
      "$˚!ˇ˙ˆ˛\"$#˘ˇ(\"˚˜,\"&#˙ˆ\"\n",
      "˘˙)$ˇ˝˙*\"#ˇ!˙˜6\"/ˇ˙˛˜ˇ!%+\n",
      "ˇ˝˝\"˜!$˘ˇ!&ˇ(\"˚˜\"#˚#$˙&˚ ˚˜\"˝˝˙*\"#˚˙˜\n",
      "\"˜!˚$˙**),˚ˇ!%+\n",
      "VV6˙*\"#ˇ!˙˜#˘ˇ\n",
      "ˇ\"$#$˚!ˇ˙ˆ˝˙*\"#ˇ!˙˜6\"/ˇ\n",
      "&˙\"!\"*&˙$$ˆ&˙(˛˘ˇ&ˇ˜˙˛\n",
      "˛\"$˙˛˜ˇ!%+%ˇˆ˙&ˇ˚#˛\"$\n",
      "\n",
      "V6˙*\"#ˇ!˙˜\n",
      "#˘ˇ4)˚˝ˆ˙&!˙ˆˆ˚*ˇ\n",
      "˝˙*\"#ˇ!%+#˘ˇ,&ˇ$ˇ˜#˘˙(ˇ˙ˆ1&\"+˙˜\n",
      "\"ˆ#ˇ&˚#˛\"$\n",
      "V6˙*\"#ˇ!˙˜#˘ˇˇ\"$#\n",
      "$˚!ˇ˙ˆ˝˙*\"#ˇ!\"*&˙$$#˘ˇ$#&ˇˇ#\n",
      "ˆ&˙(#˘ˇ,&ˇ$ˇ˜#&ˇ$˚!ˇ˜*ˇ˙ˆ0ˇ##˚ˇ˙˜\n",
      "˘˙)$ˇ$˙˝!˚˜#˙\n",
      "V$˚!ˇ˙ˆ\n",
      "1)&˜ˇ!˚˜˝˙*\"#ˇ!˙˜#˘ˇ,&ˇ$ˇ˜#$˚#ˇ'\n",
      "˙ˆ1&˙˛˜T$˙˜\n",
      "VV6˙*\"#ˇ!\n",
      "˙˜*˙&˜ˇ&˙ˆ5˝ˇ\"$\"˜#\"˜!\n",
      "˝˙*\"#ˇ!˙˜,&ˇ$ˇ˜#$˚#ˇ˙ˆ\"˜!4˝ˇ˜!\"\n",
      "˘˙(ˇ˙˜5˝ˇ\"$\"˜#\"(˚˝˝˚˜ˇ&+$˘˙,\"˜!*\"&'\n",
      "&˚\" ˇ˙˛˜ˇ!%+\n",
      "ˇ˝˝$\"##\"*˘ˇ!#˙#˘ˇ,&ˇ$ˇ˜#˘˙(ˇ$˙ˆ\n",
      "5˙˙˝ˇ\"˜!˙˜˛ˇ&ˇ˙&˚ ˚˜\"˝˝+\n",
      "˘˙)$ˇ˝˙*\"#ˇ!˙˜#˘ˇ6\"/ˇ&˙\"!\"*&˙$$ˆ&˙(#˘ˇ\n",
      ",&ˇ$ˇ˜#˘˙)$ˇ˙**),˚ˇ!%+\n",
      "J˜˙C\"˜!0˙˘˜1)#˝ˇ&(˙-ˇ!(\"˜+\n",
      "˙ˆ#˘ˇ˘˙(ˇ$˚˜#˘ˇM˚˝˝\" ˇ˘\"!%\"&˜$˛˘˚*˘\n",
      "˘\"-ˇ˜˙˛%ˇˇ˜#˙&˜\n",
      "\n"
     ]
    }
   ],
   "source": [
    "page = pdf_document.getPage(145)\n",
    "\n",
    "print(page.extractText())"
   ]
  },
  {
   "cell_type": "code",
   "execution_count": 10,
   "metadata": {},
   "outputs": [
    {
     "name": "stdout",
     "output_type": "stream",
     "text": [
      "Collecting pdfminer.six\n",
      "  Downloading pdfminer.six-20200402-py3-none-any.whl (5.6 MB)\n",
      "Requirement already satisfied: chardet; python_version > \"3.0\" in c:\\users\\lucky\\anaconda3\\lib\\site-packages (from pdfminer.six) (3.0.4)\n",
      "Note: you may need to restart the kernel to use updated packages.Collecting pycryptodome\n",
      "  Downloading pycryptodome-3.9.7-cp37-cp37m-win_amd64.whl (14.1 MB)\n",
      "Requirement already satisfied: sortedcontainers in c:\\users\\lucky\\anaconda3\\lib\\site-packages (from pdfminer.six) (2.1.0)\n",
      "Installing collected packages: pycryptodome, pdfminer.six\n",
      "Successfully installed pdfminer.six-20200402 pycryptodome-3.9.7\n",
      "\n"
     ]
    },
    {
     "name": "stderr",
     "output_type": "stream",
     "text": [
      "ERROR: Error checking for conflicts.\n",
      "Traceback (most recent call last):\n",
      "  File \"C:\\Users\\Lucky\\Anaconda3\\lib\\site-packages\\pip\\_vendor\\pkg_resources\\__init__.py\", line 3021, in _dep_map\n",
      "    return self.__dep_map\n",
      "  File \"C:\\Users\\Lucky\\Anaconda3\\lib\\site-packages\\pip\\_vendor\\pkg_resources\\__init__.py\", line 2815, in __getattr__\n",
      "    raise AttributeError(attr)\n",
      "AttributeError: _DistInfoDistribution__dep_map\n",
      "\n",
      "During handling of the above exception, another exception occurred:\n",
      "\n",
      "Traceback (most recent call last):\n",
      "  File \"C:\\Users\\Lucky\\Anaconda3\\lib\\site-packages\\pip\\_vendor\\pkg_resources\\__init__.py\", line 3012, in _parsed_pkg_info\n",
      "    return self._pkg_info\n",
      "  File \"C:\\Users\\Lucky\\Anaconda3\\lib\\site-packages\\pip\\_vendor\\pkg_resources\\__init__.py\", line 2815, in __getattr__\n",
      "    raise AttributeError(attr)\n",
      "AttributeError: _pkg_info\n",
      "\n",
      "During handling of the above exception, another exception occurred:\n",
      "\n",
      "Traceback (most recent call last):\n",
      "  File \"C:\\Users\\Lucky\\Anaconda3\\lib\\site-packages\\pip\\_internal\\commands\\install.py\", line 517, in _warn_about_conflicts\n",
      "    package_set, _dep_info = check_install_conflicts(to_install)\n",
      "  File \"C:\\Users\\Lucky\\Anaconda3\\lib\\site-packages\\pip\\_internal\\operations\\check.py\", line 114, in check_install_conflicts\n",
      "    package_set, _ = create_package_set_from_installed()\n",
      "  File \"C:\\Users\\Lucky\\Anaconda3\\lib\\site-packages\\pip\\_internal\\operations\\check.py\", line 53, in create_package_set_from_installed\n",
      "    package_set[name] = PackageDetails(dist.version, dist.requires())\n",
      "  File \"C:\\Users\\Lucky\\Anaconda3\\lib\\site-packages\\pip\\_vendor\\pkg_resources\\__init__.py\", line 2736, in requires\n",
      "    dm = self._dep_map\n",
      "  File \"C:\\Users\\Lucky\\Anaconda3\\lib\\site-packages\\pip\\_vendor\\pkg_resources\\__init__.py\", line 3023, in _dep_map\n",
      "    self.__dep_map = self._compute_dependencies()\n",
      "  File \"C:\\Users\\Lucky\\Anaconda3\\lib\\site-packages\\pip\\_vendor\\pkg_resources\\__init__.py\", line 3032, in _compute_dependencies\n",
      "    for req in self._parsed_pkg_info.get_all('Requires-Dist') or []:\n",
      "  File \"C:\\Users\\Lucky\\Anaconda3\\lib\\site-packages\\pip\\_vendor\\pkg_resources\\__init__.py\", line 3014, in _parsed_pkg_info\n",
      "    metadata = self.get_metadata(self.PKG_INFO)\n",
      "  File \"C:\\Users\\Lucky\\Anaconda3\\lib\\site-packages\\pip\\_vendor\\pkg_resources\\__init__.py\", line 1420, in get_metadata\n",
      "    value = self._get(path)\n",
      "  File \"C:\\Users\\Lucky\\Anaconda3\\lib\\site-packages\\pip\\_vendor\\pkg_resources\\__init__.py\", line 1616, in _get\n",
      "    with open(path, 'rb') as stream:\n",
      "FileNotFoundError: [Errno 2] No such file or directory: 'c:\\\\users\\\\lucky\\\\anaconda3\\\\lib\\\\site-packages\\\\path.py-12.0.1.dist-info\\\\METADATA'\n"
     ]
    }
   ],
   "source": [
    "## pip install pdfminer.six"
   ]
  },
  {
   "cell_type": "code",
   "execution_count": 1,
   "metadata": {},
   "outputs": [
    {
     "ename": "ModuleNotFoundError",
     "evalue": "No module named 'pdftotext'",
     "output_type": "error",
     "traceback": [
      "\u001b[1;31m---------------------------------------------------------------------------\u001b[0m",
      "\u001b[1;31mModuleNotFoundError\u001b[0m                       Traceback (most recent call last)",
      "\u001b[1;32m<ipython-input-1-79d62f778f97>\u001b[0m in \u001b[0;36m<module>\u001b[1;34m\u001b[0m\n\u001b[1;32m----> 1\u001b[1;33m \u001b[1;32mimport\u001b[0m \u001b[0mpdftotext\u001b[0m\u001b[1;33m\u001b[0m\u001b[1;33m\u001b[0m\u001b[0m\n\u001b[0m\u001b[0;32m      2\u001b[0m \u001b[1;33m\u001b[0m\u001b[0m\n\u001b[0;32m      3\u001b[0m \u001b[1;32mwith\u001b[0m \u001b[0mopen\u001b[0m\u001b[1;33m(\u001b[0m\u001b[1;34m\"lorem_ipsum.pdf\"\u001b[0m\u001b[1;33m,\u001b[0m \u001b[1;34m\"rb\"\u001b[0m\u001b[1;33m)\u001b[0m \u001b[1;32mas\u001b[0m \u001b[0mf\u001b[0m\u001b[1;33m:\u001b[0m\u001b[1;33m\u001b[0m\u001b[1;33m\u001b[0m\u001b[0m\n\u001b[0;32m      4\u001b[0m     \u001b[0mpdf\u001b[0m \u001b[1;33m=\u001b[0m \u001b[0mHistoryofMonsonMaine\u001b[0m\u001b[1;33m.\u001b[0m\u001b[0mpdf\u001b[0m\u001b[1;33m(\u001b[0m\u001b[0mf\u001b[0m\u001b[1;33m)\u001b[0m\u001b[1;33m\u001b[0m\u001b[1;33m\u001b[0m\u001b[0m\n\u001b[0;32m      5\u001b[0m \u001b[1;33m\u001b[0m\u001b[0m\n",
      "\u001b[1;31mModuleNotFoundError\u001b[0m: No module named 'pdftotext'"
     ]
    }
   ],
   "source": [
    "import pdftotext\n",
    "\n",
    "with open(\"lorem_ipsum.pdf\", \"rb\") as f:\n",
    "    pdf = HistoryofMonsonMaine.pdf(f)\n",
    "\n",
    "# Iterate over all the pages\n",
    "for page in pdf:\n",
    "    print(page)\n",
    "\n",
    "# Just read the second page\n",
    "print(pdf.read(2))\n",
    "\n",
    "# Or read all the text at once\n",
    "print(pdf.read_all())"
   ]
  }
 ],
 "metadata": {
  "kernelspec": {
   "display_name": "Python 3",
   "language": "python",
   "name": "python3"
  },
  "language_info": {
   "codemirror_mode": {
    "name": "ipython",
    "version": 3
   },
   "file_extension": ".py",
   "mimetype": "text/x-python",
   "name": "python",
   "nbconvert_exporter": "python",
   "pygments_lexer": "ipython3",
   "version": "3.7.3"
  }
 },
 "nbformat": 4,
 "nbformat_minor": 4
}
