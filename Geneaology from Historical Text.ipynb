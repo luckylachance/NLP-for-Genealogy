{
 "cells": [
  {
   "cell_type": "code",
   "execution_count": 16,
   "metadata": {},
   "outputs": [],
   "source": [
    "import os\n",
    "\n",
    "import pandas as pd\n",
    "import spacy\n",
    "from spacy.tokenizer import Tokenizer\n",
    "from spacy.lang.en import English # Import the English language class\n",
    "import nltk\n",
    "from nltk.tokenize import PunktSentenceTokenizer\n",
    "from nltk.corpus import reuters\n",
    "\n",
    "nlp = spacy.load('en_core_web_sm')\n",
    "#nlp = English()\n",
    "#nlp = spacy.laod('en')\n",
    "\n",
    "path = 'data/'\n",
    "arr = os.listdir(path)\n",
    "for filename in arr:\n",
    "    if filename.endswith('.txt'):\n",
    "        xpath = os.path.join(path,filename)\n",
    "        with open(xpath, 'r') as file:\n",
    "            contents = file.read()\n",
    "            doc = nlp(contents)\n",
    "            entities = [(ent.label_, ent.text, filename) for ent in doc.ents]\n",
    "            df = pd.DataFrame(entities, columns =['type', 'text', 'filename']) "
   ]
  },
  {
   "cell_type": "code",
   "execution_count": 17,
   "metadata": {},
   "outputs": [],
   "source": [
    "tokenizer = PunktSentenceTokenizer()\n",
    "path = 'data/'\n",
    "arr = os.listdir(path)\n",
    "data = []\n",
    "for filename in arr:\n",
    "    if filename.endswith('.txt'):\n",
    "        xpath = os.path.join(path,filename)\n",
    "        with open(xpath, 'r') as file:\n",
    "            contents = file.read()\n",
    "            data.extend(tokenizer.tokenize(contents))\n",
    "            "
   ]
  },
  {
   "cell_type": "code",
   "execution_count": 18,
   "metadata": {},
   "outputs": [],
   "source": [
    "df = pd.DataFrame(data, columns =['text']) \n",
    "df.to_excel('data/punktsentences.xlsx')\n",
    "df.to_csv('data/punktsenteces.csv',index=False)"
   ]
  },
  {
   "cell_type": "code",
   "execution_count": 19,
   "metadata": {},
   "outputs": [],
   "source": [
    "from sklearn.feature_extraction.text import CountVectorizer,TfidfVectorizer\n",
    "from sklearn.base import TransformerMixin\n",
    "from sklearn.pipeline import Pipeline"
   ]
  },
  {
   "cell_type": "code",
   "execution_count": 20,
   "metadata": {},
   "outputs": [
    {
     "data": {
      "text/html": [
       "<div>\n",
       "<style scoped>\n",
       "    .dataframe tbody tr th:only-of-type {\n",
       "        vertical-align: middle;\n",
       "    }\n",
       "\n",
       "    .dataframe tbody tr th {\n",
       "        vertical-align: top;\n",
       "    }\n",
       "\n",
       "    .dataframe thead th {\n",
       "        text-align: right;\n",
       "    }\n",
       "</style>\n",
       "<table border=\"1\" class=\"dataframe\">\n",
       "  <thead>\n",
       "    <tr style=\"text-align: right;\">\n",
       "      <th></th>\n",
       "      <th>relevant</th>\n",
       "      <th>type</th>\n",
       "      <th>sentence</th>\n",
       "    </tr>\n",
       "  </thead>\n",
       "  <tbody>\n",
       "    <tr>\n",
       "      <th>0</th>\n",
       "      <td>0</td>\n",
       "      <td>0</td>\n",
       "      <td>monson.</td>\n",
       "    </tr>\n",
       "    <tr>\n",
       "      <th>1</th>\n",
       "      <td>0</td>\n",
       "      <td>0</td>\n",
       "      <td>maine history 1822 - 1972 history of monson, m...</td>\n",
       "    </tr>\n",
       "    <tr>\n",
       "      <th>2</th>\n",
       "      <td>0</td>\n",
       "      <td>0</td>\n",
       "      <td>this history could not have been compiled with...</td>\n",
       "    </tr>\n",
       "    <tr>\n",
       "      <th>3</th>\n",
       "      <td>0</td>\n",
       "      <td>0</td>\n",
       "      <td>the main sources of information for this book ...</td>\n",
       "    </tr>\n",
       "    <tr>\n",
       "      <th>4</th>\n",
       "      <td>0</td>\n",
       "      <td>0</td>\n",
       "      <td>may this history bring pleasure to the readers...</td>\n",
       "    </tr>\n",
       "  </tbody>\n",
       "</table>\n",
       "</div>"
      ],
      "text/plain": [
       "   relevant  type                                           sentence\n",
       "0         0     0                                            monson.\n",
       "1         0     0  maine history 1822 - 1972 history of monson, m...\n",
       "2         0     0  this history could not have been compiled with...\n",
       "3         0     0  the main sources of information for this book ...\n",
       "4         0     0  may this history bring pleasure to the readers..."
      ]
     },
     "execution_count": 20,
     "metadata": {},
     "output_type": "execute_result"
    }
   ],
   "source": [
    "data = pd.read_csv('data/markedsentences.csv', )\n",
    "\n",
    "data.head()"
   ]
  },
  {
   "cell_type": "code",
   "execution_count": 21,
   "metadata": {},
   "outputs": [
    {
     "data": {
      "text/plain": [
       "(1350, 3)"
      ]
     },
     "execution_count": 21,
     "metadata": {},
     "output_type": "execute_result"
    }
   ],
   "source": [
    "data.shape"
   ]
  },
  {
   "cell_type": "code",
   "execution_count": 22,
   "metadata": {},
   "outputs": [
    {
     "data": {
      "text/plain": [
       "0    1320\n",
       "1      30\n",
       "Name: relevant, dtype: int64"
      ]
     },
     "execution_count": 22,
     "metadata": {},
     "output_type": "execute_result"
    }
   ],
   "source": [
    "data.relevant.value_counts()"
   ]
  },
  {
   "cell_type": "code",
   "execution_count": 31,
   "metadata": {
    "scrolled": true
   },
   "outputs": [
    {
     "name": "stdout",
     "output_type": "stream",
     "text": [
      "Predicted    0\n",
      "Actual        \n",
      "0          265\n",
      "1            5\n",
      "\n",
      " \n",
      "\n",
      "              precision    recall  f1-score   support\n",
      "\n",
      "           0       0.98      1.00      0.99       265\n",
      "           1       0.00      0.00      0.00         5\n",
      "\n",
      "    accuracy                           0.98       270\n",
      "   macro avg       0.49      0.50      0.50       270\n",
      "weighted avg       0.96      0.98      0.97       270\n",
      "\n"
     ]
    },
    {
     "name": "stderr",
     "output_type": "stream",
     "text": [
      "C:\\Users\\Lucky\\Anaconda3\\lib\\site-packages\\sklearn\\metrics\\_classification.py:1272: UndefinedMetricWarning: Precision and F-score are ill-defined and being set to 0.0 in labels with no predicted samples. Use `zero_division` parameter to control this behavior.\n",
      "  _warn_prf(average, modifier, msg_start, len(result))\n"
     ]
    }
   ],
   "source": [
    "# Count vectorizer, we get the occurence count of words.\n",
    "# Count does not account for word importance.\n",
    "# To fix this use the tfidf algorithm, which will downscale the score for the words that appear often, and \n",
    "#    therefore will give more importance to the words that have significance but occur in small portions.\n",
    "# The description column will be used with the tfidf vectorizer\n",
    "\n",
    "import numpy as np\n",
    "from sklearn.model_selection import train_test_split\n",
    "from sklearn_pandas import DataFrameMapper, cross_val_score\n",
    "from sklearn.feature_extraction.text import TfidfVectorizer\n",
    "from sklearn.naive_bayes import MultinomialNB\n",
    "from sklearn.metrics import classification_report\n",
    "\n",
    "#categories = data['type']\n",
    "categories = data['relevant']\n",
    "desc = data['sentence']\n",
    "\n",
    "vectorizer = TfidfVectorizer()\n",
    "features = vectorizer.fit_transform(desc)\n",
    " \n",
    "# features.shape\n",
    "\n",
    "x, x_test, y, y_test = train_test_split(features,categories,test_size=0.2,train_size=0.8, random_state = 0)\n",
    "\n",
    "clf = MultinomialNB().fit(x, y)\n",
    "predicted = clf.predict(x_test)\n",
    " \n",
    "def printreport(exp, pred):\n",
    "    print(pd.crosstab(exp, pred, rownames=['Actual'], colnames=['Predicted']))\n",
    " \n",
    "    print('\\n \\n')\n",
    "    print(classification_report(exp, pred))\n",
    " \n",
    "printreport(y_test, predicted)"
   ]
  },
  {
   "cell_type": "markdown",
   "metadata": {},
   "source": [
    "# Run against unseen document"
   ]
  },
  {
   "cell_type": "code",
   "execution_count": 52,
   "metadata": {},
   "outputs": [],
   "source": [
    "from sklearn.base import TransformerMixin\n",
    "from sklearn.pipeline import make_pipeline\n",
    "from sklearn.feature_extraction import DictVectorizer"
   ]
  },
  {
   "cell_type": "code",
   "execution_count": 64,
   "metadata": {
    "scrolled": false
   },
   "outputs": [
    {
     "data": {
      "text/html": [
       "<div>\n",
       "<style scoped>\n",
       "    .dataframe tbody tr th:only-of-type {\n",
       "        vertical-align: middle;\n",
       "    }\n",
       "\n",
       "    .dataframe tbody tr th {\n",
       "        vertical-align: top;\n",
       "    }\n",
       "\n",
       "    .dataframe thead th {\n",
       "        text-align: right;\n",
       "    }\n",
       "</style>\n",
       "<table border=\"1\" class=\"dataframe\">\n",
       "  <thead>\n",
       "    <tr style=\"text-align: right;\">\n",
       "      <th></th>\n",
       "      <th>Sentence</th>\n",
       "      <th>Relevant</th>\n",
       "    </tr>\n",
       "  </thead>\n",
       "  <tbody>\n",
       "    <tr>\n",
       "      <th>0</th>\n",
       "      <td>history of veazie, maine by jean hamilton veaz...</td>\n",
       "      <td>0</td>\n",
       "    </tr>\n",
       "    <tr>\n",
       "      <th>1</th>\n",
       "      <td>it was published in 1853 by s.s. smith, 17 wes...</td>\n",
       "      <td>0</td>\n",
       "    </tr>\n",
       "    <tr>\n",
       "      <th>2</th>\n",
       "      <td>veazie, maine samuel veazie 1787-1868 1 this b...</td>\n",
       "      <td>0</td>\n",
       "    </tr>\n",
       "    <tr>\n",
       "      <th>3</th>\n",
       "      <td>2 preface i have thoroughly enjoyed doing the ...</td>\n",
       "      <td>0</td>\n",
       "    </tr>\n",
       "    <tr>\n",
       "      <th>4</th>\n",
       "      <td>my will appreciate my effort... thanks to the ...</td>\n",
       "      <td>0</td>\n",
       "    </tr>\n",
       "    <tr>\n",
       "      <th>...</th>\n",
       "      <td>...</td>\n",
       "      <td>...</td>\n",
       "    </tr>\n",
       "    <tr>\n",
       "      <th>1823</th>\n",
       "      <td>it was published in 1853 by s.s.</td>\n",
       "      <td>0</td>\n",
       "    </tr>\n",
       "    <tr>\n",
       "      <th>1824</th>\n",
       "      <td>smith, 17 west market square, bangor.</td>\n",
       "      <td>0</td>\n",
       "    </tr>\n",
       "    <tr>\n",
       "      <th>1825</th>\n",
       "      <td>henry f. walling, 81 washington st.</td>\n",
       "      <td>0</td>\n",
       "    </tr>\n",
       "    <tr>\n",
       "      <th>1826</th>\n",
       "      <td>boston, mass.</td>\n",
       "      <td>0</td>\n",
       "    </tr>\n",
       "    <tr>\n",
       "      <th>1827</th>\n",
       "      <td>was the civil engineer.</td>\n",
       "      <td>0</td>\n",
       "    </tr>\n",
       "  </tbody>\n",
       "</table>\n",
       "<p>1828 rows × 2 columns</p>\n",
       "</div>"
      ],
      "text/plain": [
       "                                               Sentence  Relevant\n",
       "0     history of veazie, maine by jean hamilton veaz...         0\n",
       "1     it was published in 1853 by s.s. smith, 17 wes...         0\n",
       "2     veazie, maine samuel veazie 1787-1868 1 this b...         0\n",
       "3     2 preface i have thoroughly enjoyed doing the ...         0\n",
       "4     my will appreciate my effort... thanks to the ...         0\n",
       "...                                                 ...       ...\n",
       "1823                   it was published in 1853 by s.s.         0\n",
       "1824              smith, 17 west market square, bangor.         0\n",
       "1825                henry f. walling, 81 washington st.         0\n",
       "1826                                      boston, mass.         0\n",
       "1827                            was the civil engineer.         0\n",
       "\n",
       "[1828 rows x 2 columns]"
      ]
     },
     "execution_count": 64,
     "metadata": {},
     "output_type": "execute_result"
    }
   ],
   "source": [
    "test = pd.read_csv('data/test.csv', )\n",
    "test['Relevant'] = 0\n",
    "test"
   ]
  },
  {
   "cell_type": "code",
   "execution_count": 65,
   "metadata": {},
   "outputs": [
    {
     "data": {
      "text/html": [
       "<div>\n",
       "<style scoped>\n",
       "    .dataframe tbody tr th:only-of-type {\n",
       "        vertical-align: middle;\n",
       "    }\n",
       "\n",
       "    .dataframe tbody tr th {\n",
       "        vertical-align: top;\n",
       "    }\n",
       "\n",
       "    .dataframe thead th {\n",
       "        text-align: right;\n",
       "    }\n",
       "</style>\n",
       "<table border=\"1\" class=\"dataframe\">\n",
       "  <thead>\n",
       "    <tr style=\"text-align: right;\">\n",
       "      <th></th>\n",
       "      <th>relevant</th>\n",
       "      <th>type</th>\n",
       "      <th>sentence</th>\n",
       "    </tr>\n",
       "  </thead>\n",
       "  <tbody>\n",
       "    <tr>\n",
       "      <th>0</th>\n",
       "      <td>0</td>\n",
       "      <td>0</td>\n",
       "      <td>monson.</td>\n",
       "    </tr>\n",
       "    <tr>\n",
       "      <th>1</th>\n",
       "      <td>0</td>\n",
       "      <td>0</td>\n",
       "      <td>maine history 1822 - 1972 history of monson, m...</td>\n",
       "    </tr>\n",
       "    <tr>\n",
       "      <th>2</th>\n",
       "      <td>0</td>\n",
       "      <td>0</td>\n",
       "      <td>this history could not have been compiled with...</td>\n",
       "    </tr>\n",
       "    <tr>\n",
       "      <th>3</th>\n",
       "      <td>0</td>\n",
       "      <td>0</td>\n",
       "      <td>the main sources of information for this book ...</td>\n",
       "    </tr>\n",
       "    <tr>\n",
       "      <th>4</th>\n",
       "      <td>0</td>\n",
       "      <td>0</td>\n",
       "      <td>may this history bring pleasure to the readers...</td>\n",
       "    </tr>\n",
       "    <tr>\n",
       "      <th>...</th>\n",
       "      <td>...</td>\n",
       "      <td>...</td>\n",
       "      <td>...</td>\n",
       "    </tr>\n",
       "    <tr>\n",
       "      <th>1345</th>\n",
       "      <td>0</td>\n",
       "      <td>0</td>\n",
       "      <td>roebuck and co.</td>\n",
       "    </tr>\n",
       "    <tr>\n",
       "      <th>1346</th>\n",
       "      <td>0</td>\n",
       "      <td>0</td>\n",
       "      <td>gene johnson 42 main street authorized catalog...</td>\n",
       "    </tr>\n",
       "    <tr>\n",
       "      <th>1347</th>\n",
       "      <td>0</td>\n",
       "      <td>0</td>\n",
       "      <td>15, monson, maine telephone 997-3327 history o...</td>\n",
       "    </tr>\n",
       "    <tr>\n",
       "      <th>1348</th>\n",
       "      <td>0</td>\n",
       "      <td>0</td>\n",
       "      <td>chase 8: klmball oil company large enough to p...</td>\n",
       "    </tr>\n",
       "    <tr>\n",
       "      <th>1349</th>\n",
       "      <td>0</td>\n",
       "      <td>0</td>\n",
       "      <td>&amp; a storage in excess or 100,000 gallons of he...</td>\n",
       "    </tr>\n",
       "  </tbody>\n",
       "</table>\n",
       "<p>1350 rows × 3 columns</p>\n",
       "</div>"
      ],
      "text/plain": [
       "      relevant  type                                           sentence\n",
       "0            0     0                                            monson.\n",
       "1            0     0  maine history 1822 - 1972 history of monson, m...\n",
       "2            0     0  this history could not have been compiled with...\n",
       "3            0     0  the main sources of information for this book ...\n",
       "4            0     0  may this history bring pleasure to the readers...\n",
       "...        ...   ...                                                ...\n",
       "1345         0     0                                    roebuck and co.\n",
       "1346         0     0  gene johnson 42 main street authorized catalog...\n",
       "1347         0     0  15, monson, maine telephone 997-3327 history o...\n",
       "1348         0     0  chase 8: klmball oil company large enough to p...\n",
       "1349         0     0  & a storage in excess or 100,000 gallons of he...\n",
       "\n",
       "[1350 rows x 3 columns]"
      ]
     },
     "execution_count": 65,
     "metadata": {},
     "output_type": "execute_result"
    }
   ],
   "source": [
    "data"
   ]
  },
  {
   "cell_type": "code",
   "execution_count": 76,
   "metadata": {},
   "outputs": [],
   "source": [
    "punctuations = string.punctuation# Create our list of punctuation marks\n",
    "nlp = spacy.load('en') # Create list of stopwords\n",
    "stop_words = spacy.lang.en.stop_words.STOP_WORDS\n",
    "parser = English()# Load English tokenizer, tagger, parser, NER and word vectors\n",
    "\n",
    "def spacy_tokenizer(sentence):# Creating tokenizer function\n",
    "    \n",
    "    mytokens = parser(sentence)# Creating token object, used to create documents with linguistic annotations.\n",
    "    mytokens = [ word.lemma_.lower().strip() if word.lemma_ != \"-PRON-\" else word.lower_ for word in mytokens ] # Lemmatizing each token and converting each token into lowercase\n",
    "    mytokens = [ word for word in mytokens if word not in stop_words and word not in punctuations ] # Removing stop words\n",
    "    \n",
    "    return mytokens# return preprocessed list of tokens\n",
    "\n",
    "# Custom transformer using spaCy\n",
    "class predictors(TransformerMixin):\n",
    "    def transform(self, X, **transform_params):\n",
    "        # Cleaning Text\n",
    "        return [clean_text(text) for text in X]\n",
    "\n",
    "    def fit(self, X, y=None, **fit_params):\n",
    "        return self\n",
    "\n",
    "    def get_params(self, deep=True):\n",
    "        return {}\n",
    "\n",
    "# Basic function to clean the text\n",
    "def clean_text(text):\n",
    "    # Removing spaces and converting text into lowercase\n",
    "    return text.strip().lower()\n",
    "\n"
   ]
  },
  {
   "cell_type": "code",
   "execution_count": 79,
   "metadata": {},
   "outputs": [
    {
     "data": {
      "text/plain": [
       "array([0, 0, 0, ..., 0, 0, 0], dtype=int64)"
      ]
     },
     "execution_count": 79,
     "metadata": {},
     "output_type": "execute_result"
    }
   ],
   "source": [
    "# model generation\n",
    "from sklearn.linear_model import LogisticRegression\n",
    "classifier = LogisticRegression()\n",
    "\n",
    "# Create pipeline using Bag of Words\n",
    "pipe = Pipeline([('cleaner', predictors()),\n",
    "                 ('vectorizer', bow_vector),\n",
    "                 ('classifier', classifier)])\n",
    "\n",
    "# model generation\n",
    "pipe.fit(data['sentence'],data['relevant'])\n",
    "\n",
    "pipe.predict(test['Sentence'])"
   ]
  },
  {
   "cell_type": "code",
   "execution_count": 80,
   "metadata": {},
   "outputs": [
    {
     "data": {
      "text/html": [
       "<div>\n",
       "<style scoped>\n",
       "    .dataframe tbody tr th:only-of-type {\n",
       "        vertical-align: middle;\n",
       "    }\n",
       "\n",
       "    .dataframe tbody tr th {\n",
       "        vertical-align: top;\n",
       "    }\n",
       "\n",
       "    .dataframe thead th {\n",
       "        text-align: right;\n",
       "    }\n",
       "</style>\n",
       "<table border=\"1\" class=\"dataframe\">\n",
       "  <thead>\n",
       "    <tr style=\"text-align: right;\">\n",
       "      <th></th>\n",
       "      <th>Sentence</th>\n",
       "      <th>Relevant</th>\n",
       "    </tr>\n",
       "  </thead>\n",
       "  <tbody>\n",
       "    <tr>\n",
       "      <th>0</th>\n",
       "      <td>history of veazie, maine by jean hamilton veaz...</td>\n",
       "      <td>0</td>\n",
       "    </tr>\n",
       "    <tr>\n",
       "      <th>1225</th>\n",
       "      <td>the grocer railroad station.</td>\n",
       "      <td>0</td>\n",
       "    </tr>\n",
       "    <tr>\n",
       "      <th>1224</th>\n",
       "      <td>he used to run a horse and fannie drove her ne...</td>\n",
       "      <td>0</td>\n",
       "    </tr>\n",
       "    <tr>\n",
       "      <th>1223</th>\n",
       "      <td>in the early 1900s rufus dwelley lived in the ...</td>\n",
       "      <td>0</td>\n",
       "    </tr>\n",
       "    <tr>\n",
       "      <th>1222</th>\n",
       "      <td>gentleman in town had occasion to tell me this...</td>\n",
       "      <td>0</td>\n",
       "    </tr>\n",
       "    <tr>\n",
       "      <th>...</th>\n",
       "      <td>...</td>\n",
       "      <td>...</td>\n",
       "    </tr>\n",
       "    <tr>\n",
       "      <th>603</th>\n",
       "      <td>late but pro- ceeded ahead instead of pulling ...</td>\n",
       "      <td>0</td>\n",
       "    </tr>\n",
       "    <tr>\n",
       "      <th>602</th>\n",
       "      <td>westbound mcrr train was 11/2 hrs.</td>\n",
       "      <td>0</td>\n",
       "    </tr>\n",
       "    <tr>\n",
       "      <th>601</th>\n",
       "      <td>39 train wreck (april 1895) train wreck (april...</td>\n",
       "      <td>0</td>\n",
       "    </tr>\n",
       "    <tr>\n",
       "      <th>599</th>\n",
       "      <td>1955, maine central railroad bought the stock ...</td>\n",
       "      <td>0</td>\n",
       "    </tr>\n",
       "    <tr>\n",
       "      <th>1827</th>\n",
       "      <td>was the civil engineer.</td>\n",
       "      <td>0</td>\n",
       "    </tr>\n",
       "  </tbody>\n",
       "</table>\n",
       "<p>1828 rows × 2 columns</p>\n",
       "</div>"
      ],
      "text/plain": [
       "                                               Sentence  Relevant\n",
       "0     history of veazie, maine by jean hamilton veaz...         0\n",
       "1225                       the grocer railroad station.         0\n",
       "1224  he used to run a horse and fannie drove her ne...         0\n",
       "1223  in the early 1900s rufus dwelley lived in the ...         0\n",
       "1222  gentleman in town had occasion to tell me this...         0\n",
       "...                                                 ...       ...\n",
       "603   late but pro- ceeded ahead instead of pulling ...         0\n",
       "602                  westbound mcrr train was 11/2 hrs.         0\n",
       "601   39 train wreck (april 1895) train wreck (april...         0\n",
       "599   1955, maine central railroad bought the stock ...         0\n",
       "1827                            was the civil engineer.         0\n",
       "\n",
       "[1828 rows x 2 columns]"
      ]
     },
     "execution_count": 80,
     "metadata": {},
     "output_type": "execute_result"
    }
   ],
   "source": [
    "test.sort_values('Relevant')"
   ]
  },
  {
   "cell_type": "code",
   "execution_count": 81,
   "metadata": {},
   "outputs": [],
   "source": [
    "from sklearn import metrics\n",
    "from sklearn.metrics import accuracy_score\n",
    "# Predicting with a test dataset\n",
    "\n",
    "test['Relevant'] = pipe.predict_proba(test['Sentence'])[:,1]\n",
    "\n",
    "# build a filter for only what I want to see\n",
    "\n",
    "Resolve = test['Relevant'] \n",
    "\n",
    "\n",
    "# Model Accuracy\n",
    "#print(\"Logistic Regression Accuracy:\",metrics.accuracy_score(y_test, predicted))\n",
    "#print(\"Logistic Regression Precision:\",metrics.precision_score(y_test, predicted))\n",
    "#print(\"Logistic Regression Recall:\",metrics.recall_score(y_test, predicted))"
   ]
  },
  {
   "cell_type": "code",
   "execution_count": 82,
   "metadata": {},
   "outputs": [
    {
     "data": {
      "text/html": [
       "<div>\n",
       "<style scoped>\n",
       "    .dataframe tbody tr th:only-of-type {\n",
       "        vertical-align: middle;\n",
       "    }\n",
       "\n",
       "    .dataframe tbody tr th {\n",
       "        vertical-align: top;\n",
       "    }\n",
       "\n",
       "    .dataframe thead th {\n",
       "        text-align: right;\n",
       "    }\n",
       "</style>\n",
       "<table border=\"1\" class=\"dataframe\">\n",
       "  <thead>\n",
       "    <tr style=\"text-align: right;\">\n",
       "      <th></th>\n",
       "      <th>Sentence</th>\n",
       "      <th>Relevant</th>\n",
       "    </tr>\n",
       "  </thead>\n",
       "  <tbody>\n",
       "    <tr>\n",
       "      <th>1642</th>\n",
       "      <td>*frank c. turner cushman 1928 - f. c. turner, ...</td>\n",
       "      <td>0.000003</td>\n",
       "    </tr>\n",
       "    <tr>\n",
       "      <th>24</th>\n",
       "      <td>and possess all the property which at the date...</td>\n",
       "      <td>0.000030</td>\n",
       "    </tr>\n",
       "    <tr>\n",
       "      <th>1562</th>\n",
       "      <td>committee, april 6, no new school buy fire tru...</td>\n",
       "      <td>0.000041</td>\n",
       "    </tr>\n",
       "    <tr>\n",
       "      <th>1643</th>\n",
       "      <td>1916 - r. p. hathorn, bert l. king, laurence s...</td>\n",
       "      <td>0.000156</td>\n",
       "    </tr>\n",
       "    <tr>\n",
       "      <th>1547</th>\n",
       "      <td>sewers march 31, rescind town hall, buy grange...</td>\n",
       "      <td>0.000217</td>\n",
       "    </tr>\n",
       "    <tr>\n",
       "      <th>...</th>\n",
       "      <td>...</td>\n",
       "      <td>...</td>\n",
       "    </tr>\n",
       "    <tr>\n",
       "      <th>735</th>\n",
       "      <td>fourth row l to r: unknown, pauline smith, alb...</td>\n",
       "      <td>0.606009</td>\n",
       "    </tr>\n",
       "    <tr>\n",
       "      <th>1326</th>\n",
       "      <td>in 1910 brother, fred, was born in 1872. his m...</td>\n",
       "      <td>0.616878</td>\n",
       "    </tr>\n",
       "    <tr>\n",
       "      <th>1323</th>\n",
       "      <td>the 88 william jordan, our eldest living male ...</td>\n",
       "      <td>0.783078</td>\n",
       "    </tr>\n",
       "    <tr>\n",
       "      <th>376</th>\n",
       "      <td>ralph shorey, francina gamble, alice shorey, r...</td>\n",
       "      <td>0.798783</td>\n",
       "    </tr>\n",
       "    <tr>\n",
       "      <th>1075</th>\n",
       "      <td>1891 - ingerson doane 1923 - charles e. goode,...</td>\n",
       "      <td>0.830409</td>\n",
       "    </tr>\n",
       "  </tbody>\n",
       "</table>\n",
       "<p>1828 rows × 2 columns</p>\n",
       "</div>"
      ],
      "text/plain": [
       "                                               Sentence  Relevant\n",
       "1642  *frank c. turner cushman 1928 - f. c. turner, ...  0.000003\n",
       "24    and possess all the property which at the date...  0.000030\n",
       "1562  committee, april 6, no new school buy fire tru...  0.000041\n",
       "1643  1916 - r. p. hathorn, bert l. king, laurence s...  0.000156\n",
       "1547  sewers march 31, rescind town hall, buy grange...  0.000217\n",
       "...                                                 ...       ...\n",
       "735   fourth row l to r: unknown, pauline smith, alb...  0.606009\n",
       "1326  in 1910 brother, fred, was born in 1872. his m...  0.616878\n",
       "1323  the 88 william jordan, our eldest living male ...  0.783078\n",
       "376   ralph shorey, francina gamble, alice shorey, r...  0.798783\n",
       "1075  1891 - ingerson doane 1923 - charles e. goode,...  0.830409\n",
       "\n",
       "[1828 rows x 2 columns]"
      ]
     },
     "execution_count": 82,
     "metadata": {},
     "output_type": "execute_result"
    }
   ],
   "source": [
    "test.sort_values('Relevant')"
   ]
  },
  {
   "cell_type": "code",
   "execution_count": 23,
   "metadata": {},
   "outputs": [
    {
     "data": {
      "text/plain": [
       "'1891 - ingerson doane 1923 - charles e. goode, edward bulles, charles 1892 - ingerson doane inman 1893 - fred sproul 1924 - charles e. goode 1894 - roderick p. hathorn 1925 - william n. jordan 1895 - fred sproul 1926 - william jordan 1896 - lewis c. inman 1927 - william n. jordan 1897 - calvin inman 1928 - william n. jordan 1898 - lewis c. inman 1929 to 1942 - harry e. smith 1899 - thomas inman (chief), fred sproul, william 1943 - william n. jordan swears, r.p.'"
      ]
     },
     "execution_count": 23,
     "metadata": {},
     "output_type": "execute_result"
    }
   ],
   "source": [
    "test.loc[1075,'Sentence']"
   ]
  },
  {
   "cell_type": "code",
   "execution_count": 21,
   "metadata": {},
   "outputs": [
    {
     "data": {
      "text/plain": [
       "'ralph shorey, francina gamble, alice shorey, ruth shorey, carolyn gamble 2. ivan son of harold wentworth 3. james gamble with a few trout 4. ralph shorey with a bear 5. norma and janet, daughters of charles hersey 6. eugene, son of james gamble 7. james, son of harold wentworth 8. bernice stevens, granddaughter of james parks in the late 1940s bangor hydro electric company edward graham dedicated the new plant, graham station.'"
      ]
     },
     "execution_count": 21,
     "metadata": {},
     "output_type": "execute_result"
    }
   ],
   "source": [
    "test.loc[376,'Sentence']"
   ]
  },
  {
   "cell_type": "code",
   "execution_count": 24,
   "metadata": {},
   "outputs": [
    {
     "data": {
      "text/plain": [
       "'the 88 william jordan, our eldest living male resident, was veazie and married grace may turner, daughter of mary born in north brewer, at the bend, on april 22, 1886.'"
      ]
     },
     "execution_count": 24,
     "metadata": {},
     "output_type": "execute_result"
    }
   ],
   "source": [
    "test.loc[1323,'Sentence']"
   ]
  },
  {
   "cell_type": "code",
   "execution_count": 25,
   "metadata": {},
   "outputs": [
    {
     "data": {
      "text/plain": [
       "'in 1910 brother, fred, was born in 1872. his mother, ellen they again moved to peabody, massachusetts and stayed (johnston) jordan, born in north brewer, met and married five years.'"
      ]
     },
     "execution_count": 25,
     "metadata": {},
     "output_type": "execute_result"
    }
   ],
   "source": [
    "test.loc[1326,'Sentence']"
   ]
  },
  {
   "cell_type": "code",
   "execution_count": 26,
   "metadata": {},
   "outputs": [
    {
     "data": {
      "text/plain": [
       "'fourth row l to r: unknown, pauline smith, albert obrien, richard jones, anna kennett, john ellis first row (near blackboard) front to back: leon vanaken, wilbur braley, lucy spurting, irving wentworth, francina gamble second row front to back, buddy rogers, raymond mckay, dorothy hollis, mary spencer, unknown, evelyn ames third row front to back: irene shorey, freeland jones, mary chapman, eleanor spencer, lois miles, lyndon sidelinker, vivian lambert fourth row front to back: eugene gamble, madeline prouty, frank jordan, elliot sidelinker, alice shorey 55 john r. graham school (1935 or 1936) melvin leighton, teacher first row (near blackboard) front to back: douglas doane, george bell, richard )ones, pauline smith, ella spencer, albert obrien second row front to back: eleanor spencer, norman bateman, wilbur braley jr., jean mack, anna kennett, thelma bateman, evelyn spencer third row front to back: audrey bell, unknown, helen chapman, betty shorey, unknown, irving wentworth, francina gamble fourth row front to back: mary spencer, leon vanaken, lawrence ellis, raymond mckay, dorothy hollis fourth and fifth grade 1949 front row l to r: mary bell, louise olmstead, alverta spencer, lone jordan, dawn turner, mary ).'"
      ]
     },
     "execution_count": 26,
     "metadata": {},
     "output_type": "execute_result"
    }
   ],
   "source": [
    "test.loc[735,'Sentence']"
   ]
  },
  {
   "cell_type": "code",
   "execution_count": 118,
   "metadata": {},
   "outputs": [
    {
     "data": {
      "text/plain": [
       "0       0.003524\n",
       "1       0.047910\n",
       "2       0.009701\n",
       "3       0.010646\n",
       "4       0.008948\n",
       "          ...   \n",
       "1823    0.011052\n",
       "1824    0.015838\n",
       "1825    0.036445\n",
       "1826    0.010114\n",
       "1827    0.011266\n",
       "Name: Relevant, Length: 1828, dtype: float64"
      ]
     },
     "execution_count": 118,
     "metadata": {},
     "output_type": "execute_result"
    }
   ],
   "source": [
    "Resolve"
   ]
  },
  {
   "cell_type": "markdown",
   "metadata": {},
   "source": [
    "# ----- STOP LINE-------"
   ]
  }
 ],
 "metadata": {
  "kernelspec": {
   "display_name": "Python 3",
   "language": "python",
   "name": "python3"
  },
  "language_info": {
   "codemirror_mode": {
    "name": "ipython",
    "version": 3
   },
   "file_extension": ".py",
   "mimetype": "text/x-python",
   "name": "python",
   "nbconvert_exporter": "python",
   "pygments_lexer": "ipython3",
   "version": "3.7.3"
  }
 },
 "nbformat": 4,
 "nbformat_minor": 4
}
