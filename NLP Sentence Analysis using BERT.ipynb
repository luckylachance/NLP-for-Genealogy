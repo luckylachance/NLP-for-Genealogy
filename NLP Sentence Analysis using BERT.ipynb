{
 "cells": [
  {
   "cell_type": "code",
   "execution_count": 1,
   "metadata": {},
   "outputs": [
    {
     "name": "stdout",
     "output_type": "stream",
     "text": [
      "Collecting bert-serving-server\n",
      "  Downloading bert_serving_server-1.10.0-py3-none-any.whl (61 kB)\n",
      "Note: you may need to restart the kernel to use updated packages.Requirement already satisfied: six in c:\\users\\lucky\\anaconda3\\lib\\site-packages (from bert-serving-server) (1.14.0)\n",
      "Collecting GPUtil>=1.3.0\n",
      "  Downloading GPUtil-1.4.0.tar.gz (5.5 kB)\n",
      "\n",
      "Requirement already satisfied: numpy in c:\\users\\lucky\\anaconda3\\lib\\site-packages (from bert-serving-server) (1.18.1)\n",
      "Requirement already satisfied: pyzmq>=17.1.0 in c:\\users\\lucky\\anaconda3\\lib\\site-packages (from bert-serving-server) (18.1.1)\n",
      "Collecting termcolor>=1.1\n",
      "  Downloading termcolor-1.1.0.tar.gz (3.9 kB)\n",
      "Building wheels for collected packages: GPUtil, termcolor\n",
      "  Building wheel for GPUtil (setup.py): started\n",
      "  Building wheel for GPUtil (setup.py): finished with status 'done'\n",
      "  Created wheel for GPUtil: filename=GPUtil-1.4.0-py3-none-any.whl size=7414 sha256=a572967b386d48071ee9b37673a168d2f6ac99468105feed2e2083da0c49ce41\n",
      "  Stored in directory: c:\\users\\lucky\\appdata\\local\\pip\\cache\\wheels\\6e\\f8\\83\\534c52482d6da64622ddbf72cd93c35d2ef2881b78fd08ff0c\n",
      "  Building wheel for termcolor (setup.py): started\n",
      "  Building wheel for termcolor (setup.py): finished with status 'done'\n",
      "  Created wheel for termcolor: filename=termcolor-1.1.0-py3-none-any.whl size=4835 sha256=cc8ae3b08414e3d7bdcc3061902d5cb41ef914e429d1e4cb98045db8d9f6eb54\n",
      "  Stored in directory: c:\\users\\lucky\\appdata\\local\\pip\\cache\\wheels\\3f\\e3\\ec\\8a8336ff196023622fbcb36de0c5a5c218cbb24111d1d4c7f2\n",
      "Successfully built GPUtil termcolor\n",
      "Installing collected packages: GPUtil, termcolor, bert-serving-server\n",
      "Successfully installed GPUtil-1.4.0 bert-serving-server-1.10.0 termcolor-1.1.0\n"
     ]
    }
   ],
   "source": [
    "pip install bert-serving-server"
   ]
  },
  {
   "cell_type": "code",
   "execution_count": 2,
   "metadata": {},
   "outputs": [
    {
     "name": "stdout",
     "output_type": "stream",
     "text": [
      "Collecting bert-serving-client\n",
      "  Downloading bert_serving_client-1.10.0-py2.py3-none-any.whl (28 kB)\n",
      "Requirement already satisfied: pyzmq>=17.1.0 in c:\\users\\lucky\\anaconda3\\lib\\site-packages (from bert-serving-client) (18.1.1)\n",
      "Requirement already satisfied: numpy in c:\\users\\lucky\\anaconda3\\lib\\site-packages (from bert-serving-client) (1.18.1)\n",
      "Installing collected packages: bert-serving-client\n",
      "Successfully installed bert-serving-client-1.10.0\n",
      "Note: you may need to restart the kernel to use updated packages.\n"
     ]
    }
   ],
   "source": [
    "pip install bert-serving-client"
   ]
  },
  {
   "cell_type": "code",
   "execution_count": 5,
   "metadata": {},
   "outputs": [
    {
     "ename": "SyntaxError",
     "evalue": "invalid token (<ipython-input-5-f0e836e1fc56>, line 1)",
     "output_type": "error",
     "traceback": [
      "\u001b[1;36m  File \u001b[1;32m\"<ipython-input-5-f0e836e1fc56>\"\u001b[1;36m, line \u001b[1;32m1\u001b[0m\n\u001b[1;33m    bert-serving-start -model_dir /tmp/english_L-12_H-768_A-12/ -num_worker=4\u001b[0m\n\u001b[1;37m                                                   ^\u001b[0m\n\u001b[1;31mSyntaxError\u001b[0m\u001b[1;31m:\u001b[0m invalid token\n"
     ]
    }
   ],
   "source": [
    "bert-serving-start -model_dir /tmp/english_L-12_H-768_A-12/ -num_worker=4"
   ]
  }
 ],
 "metadata": {
  "kernelspec": {
   "display_name": "Python 3",
   "language": "python",
   "name": "python3"
  },
  "language_info": {
   "codemirror_mode": {
    "name": "ipython",
    "version": 3
   },
   "file_extension": ".py",
   "mimetype": "text/x-python",
   "name": "python",
   "nbconvert_exporter": "python",
   "pygments_lexer": "ipython3",
   "version": "3.7.3"
  }
 },
 "nbformat": 4,
 "nbformat_minor": 4
}
